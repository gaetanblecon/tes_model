{
 "cells": [
  {
   "cell_type": "code",
   "execution_count": 1,
   "id": "2650c0c9",
   "metadata": {},
   "outputs": [
    {
     "name": "stderr",
     "output_type": "stream",
     "text": [
      "g:\\Mon Drive\\TES\\tes_env\\Lib\\site-packages\\openpyxl\\reader\\workbook.py:118: UserWarning: Print area cannot be set to Defined name: ColItems!$A:$A.\n",
      "  warn(f\"Print area cannot be set to Defined name: {defn.value}.\")\n",
      "g:\\Mon Drive\\TES\\tes_env\\Lib\\site-packages\\openpyxl\\reader\\workbook.py:118: UserWarning: Print area cannot be set to Defined name: RowItems!$A:$A.\n",
      "  warn(f\"Print area cannot be set to Defined name: {defn.value}.\")\n"
     ]
    },
    {
     "data": {
      "application/vnd.microsoft.datawrangler.viewer.v0+json": {
       "columns": [
        {
         "name": "index",
         "rawType": "int64",
         "type": "integer"
        },
        {
         "name": "Pays",
         "rawType": "object",
         "type": "unknown"
        }
       ],
       "ref": "66f307c3-6f1a-463a-86a5-22bbb29075db",
       "rows": [
        [
         "0",
         "ARG"
        ],
        [
         "1",
         "AUS"
        ],
        [
         "2",
         "AUT"
        ],
        [
         "3",
         "BEL"
        ],
        [
         "4",
         "BGD"
        ],
        [
         "5",
         "BGR"
        ],
        [
         "6",
         "BLR"
        ],
        [
         "7",
         "BRA"
        ],
        [
         "8",
         "BRN"
        ],
        [
         "9",
         "CAN"
        ],
        [
         "10",
         "CHE"
        ],
        [
         "11",
         "CHL"
        ],
        [
         "12",
         "CHN"
        ],
        [
         "13",
         "CIV"
        ],
        [
         "14",
         "CMR"
        ],
        [
         "15",
         "COL"
        ],
        [
         "16",
         "CRI"
        ],
        [
         "17",
         "CYP"
        ],
        [
         "18",
         "CZE"
        ],
        [
         "19",
         "DEU"
        ],
        [
         "20",
         "DNK"
        ],
        [
         "21",
         "EGY"
        ],
        [
         "22",
         "ESP"
        ],
        [
         "23",
         "EST"
        ],
        [
         "24",
         "FIN"
        ],
        [
         "25",
         "FRA"
        ],
        [
         "26",
         "GBR"
        ],
        [
         "27",
         "GRC"
        ],
        [
         "28",
         "HKG"
        ],
        [
         "29",
         "HRV"
        ],
        [
         "30",
         "HUN"
        ],
        [
         "31",
         "IDN"
        ],
        [
         "32",
         "IND"
        ],
        [
         "33",
         "IRL"
        ],
        [
         "34",
         "ISL"
        ],
        [
         "35",
         "ISR"
        ],
        [
         "36",
         "ITA"
        ],
        [
         "37",
         "JOR"
        ],
        [
         "38",
         "JPN"
        ],
        [
         "39",
         "KAZ"
        ],
        [
         "40",
         "KHM"
        ],
        [
         "41",
         "KOR"
        ],
        [
         "42",
         "LAO"
        ],
        [
         "43",
         "LTU"
        ],
        [
         "44",
         "LUX"
        ],
        [
         "45",
         "LVA"
        ],
        [
         "46",
         "MAR"
        ],
        [
         "47",
         "MEX"
        ],
        [
         "48",
         "MLT"
        ],
        [
         "49",
         "MMR"
        ]
       ],
       "shape": {
        "columns": 1,
        "rows": 91
       }
      },
      "text/html": [
       "<div>\n",
       "<style scoped>\n",
       "    .dataframe tbody tr th:only-of-type {\n",
       "        vertical-align: middle;\n",
       "    }\n",
       "\n",
       "    .dataframe tbody tr th {\n",
       "        vertical-align: top;\n",
       "    }\n",
       "\n",
       "    .dataframe thead th {\n",
       "        text-align: right;\n",
       "    }\n",
       "</style>\n",
       "<table border=\"1\" class=\"dataframe\">\n",
       "  <thead>\n",
       "    <tr style=\"text-align: right;\">\n",
       "      <th></th>\n",
       "      <th>Pays</th>\n",
       "    </tr>\n",
       "  </thead>\n",
       "  <tbody>\n",
       "    <tr>\n",
       "      <th>0</th>\n",
       "      <td>ARG</td>\n",
       "    </tr>\n",
       "    <tr>\n",
       "      <th>1</th>\n",
       "      <td>AUS</td>\n",
       "    </tr>\n",
       "    <tr>\n",
       "      <th>2</th>\n",
       "      <td>AUT</td>\n",
       "    </tr>\n",
       "    <tr>\n",
       "      <th>3</th>\n",
       "      <td>BEL</td>\n",
       "    </tr>\n",
       "    <tr>\n",
       "      <th>4</th>\n",
       "      <td>BGD</td>\n",
       "    </tr>\n",
       "    <tr>\n",
       "      <th>...</th>\n",
       "      <td>...</td>\n",
       "    </tr>\n",
       "    <tr>\n",
       "      <th>86</th>\n",
       "      <td>NaN</td>\n",
       "    </tr>\n",
       "    <tr>\n",
       "      <th>87</th>\n",
       "      <td>NaN</td>\n",
       "    </tr>\n",
       "    <tr>\n",
       "      <th>88</th>\n",
       "      <td>NaN</td>\n",
       "    </tr>\n",
       "    <tr>\n",
       "      <th>89</th>\n",
       "      <td>NaN</td>\n",
       "    </tr>\n",
       "    <tr>\n",
       "      <th>90</th>\n",
       "      <td>NaN</td>\n",
       "    </tr>\n",
       "  </tbody>\n",
       "</table>\n",
       "<p>91 rows × 1 columns</p>\n",
       "</div>"
      ],
      "text/plain": [
       "   Pays\n",
       "0   ARG\n",
       "1   AUS\n",
       "2   AUT\n",
       "3   BEL\n",
       "4   BGD\n",
       "..  ...\n",
       "86  NaN\n",
       "87  NaN\n",
       "88  NaN\n",
       "89  NaN\n",
       "90  NaN\n",
       "\n",
       "[91 rows x 1 columns]"
      ]
     },
     "execution_count": 1,
     "metadata": {},
     "output_type": "execute_result"
    }
   ],
   "source": [
    "import os\n",
    "import pandas as pd\n",
    "import re\n",
    "import openpyxl\n",
    "\n",
    "# Dossier contenant les fichiers CSV\n",
    "csv_folder = '../data/international_TES'\n",
    "\n",
    "# Lister tous les fichiers CSV dans le dossier\n",
    "csv_files = [f for f in os.listdir(csv_folder) if f.endswith('.csv')]\n",
    " \n",
    "# Dictionnaire pour stocker les DataFrames\n",
    "dfs = {}\n",
    "\n",
    "for csv_file in csv_files:\n",
    "    file_path = os.path.join(csv_folder, csv_file)\n",
    "    # Prendre uniqument les nombres de 'csv_file'\n",
    "    year = re.sub(r'\\D', '', csv_file)\n",
    "    df = pd.read_csv(file_path)\n",
    "    dfs[year] = df\n",
    "\n",
    "df_pays = pd.read_excel(\n",
    "    \"../data/international_TES/ReadMe_ICIO_small.xlsx\",\n",
    "    sheet_name=\"Area_Activities\",\n",
    "    header=2,      # L'en-tête (\"Code\") est bien à la ligne 3 (index 2)\n",
    "    usecols='C'    # ON NE LIT QUE LA COLONNE C\n",
    ")\n",
    "df_pays.rename(columns={'Code': 'Pays'})"
   ]
  },
  {
   "cell_type": "code",
   "execution_count": 2,
   "id": "2e0d7e6d",
   "metadata": {},
   "outputs": [],
   "source": [
    "# Nettoyage des noms de colonnes (suppression des 4 premiers caractères) et de la première colonne (sauf 3 dernières lignes)\n",
    "df_clean = {}\n",
    "for year, df in dfs.items():\n",
    "    # Nettoyage des colonnes\n",
    "    new_cols = [col[4:] if len(col) > 4 else col for col in df.columns]\n",
    "    df_clean[year] = df.copy()\n",
    "    df_clean[year].columns = new_cols\n",
    "\n",
    "    # Nettoyage de la première colonne (sauf 3 dernières lignes)\n",
    "    if df_clean[year].shape[0] > 3:\n",
    "        main_rows = df_clean[year].iloc[:-3, 0].apply(lambda x: x[4:] if isinstance(x, str) and len(x) > 4 else x)\n",
    "        last_rows = df_clean[year].iloc[-3:, 0]\n",
    "        df_clean[year].iloc[:-3, 0] = main_rows\n",
    "        df_clean[year].iloc[-3:, 0] = last_rows\n",
    "        df_clean[year].set_index(\"V1\", inplace=True)"
   ]
  },
  {
   "cell_type": "code",
   "execution_count": 3,
   "id": "b2c67d4d",
   "metadata": {},
   "outputs": [
    {
     "name": "stderr",
     "output_type": "stream",
     "text": [
      "C:\\Users\\gaetan.blecon_square\\AppData\\Local\\Temp\\ipykernel_4756\\3954505384.py:6: FutureWarning: DataFrame.groupby with axis=1 is deprecated. Do `frame.T.groupby(...)` without axis instead.\n",
      "  df_cols_summed = df.groupby(df.columns, axis=1).sum()\n",
      "C:\\Users\\gaetan.blecon_square\\AppData\\Local\\Temp\\ipykernel_4756\\3954505384.py:6: FutureWarning: DataFrame.groupby with axis=1 is deprecated. Do `frame.T.groupby(...)` without axis instead.\n",
      "  df_cols_summed = df.groupby(df.columns, axis=1).sum()\n",
      "C:\\Users\\gaetan.blecon_square\\AppData\\Local\\Temp\\ipykernel_4756\\3954505384.py:6: FutureWarning: DataFrame.groupby with axis=1 is deprecated. Do `frame.T.groupby(...)` without axis instead.\n",
      "  df_cols_summed = df.groupby(df.columns, axis=1).sum()\n",
      "C:\\Users\\gaetan.blecon_square\\AppData\\Local\\Temp\\ipykernel_4756\\3954505384.py:6: FutureWarning: DataFrame.groupby with axis=1 is deprecated. Do `frame.T.groupby(...)` without axis instead.\n",
      "  df_cols_summed = df.groupby(df.columns, axis=1).sum()\n",
      "C:\\Users\\gaetan.blecon_square\\AppData\\Local\\Temp\\ipykernel_4756\\3954505384.py:6: FutureWarning: DataFrame.groupby with axis=1 is deprecated. Do `frame.T.groupby(...)` without axis instead.\n",
      "  df_cols_summed = df.groupby(df.columns, axis=1).sum()\n",
      "C:\\Users\\gaetan.blecon_square\\AppData\\Local\\Temp\\ipykernel_4756\\3954505384.py:6: FutureWarning: DataFrame.groupby with axis=1 is deprecated. Do `frame.T.groupby(...)` without axis instead.\n",
      "  df_cols_summed = df.groupby(df.columns, axis=1).sum()\n",
      "C:\\Users\\gaetan.blecon_square\\AppData\\Local\\Temp\\ipykernel_4756\\3954505384.py:6: FutureWarning: DataFrame.groupby with axis=1 is deprecated. Do `frame.T.groupby(...)` without axis instead.\n",
      "  df_cols_summed = df.groupby(df.columns, axis=1).sum()\n",
      "C:\\Users\\gaetan.blecon_square\\AppData\\Local\\Temp\\ipykernel_4756\\3954505384.py:6: FutureWarning: DataFrame.groupby with axis=1 is deprecated. Do `frame.T.groupby(...)` without axis instead.\n",
      "  df_cols_summed = df.groupby(df.columns, axis=1).sum()\n",
      "C:\\Users\\gaetan.blecon_square\\AppData\\Local\\Temp\\ipykernel_4756\\3954505384.py:6: FutureWarning: DataFrame.groupby with axis=1 is deprecated. Do `frame.T.groupby(...)` without axis instead.\n",
      "  df_cols_summed = df.groupby(df.columns, axis=1).sum()\n",
      "C:\\Users\\gaetan.blecon_square\\AppData\\Local\\Temp\\ipykernel_4756\\3954505384.py:6: FutureWarning: DataFrame.groupby with axis=1 is deprecated. Do `frame.T.groupby(...)` without axis instead.\n",
      "  df_cols_summed = df.groupby(df.columns, axis=1).sum()\n"
     ]
    }
   ],
   "source": [
    "# Somme des colonnes et des lignes ayant le même nom dans chaque DataFrame de df_clean\n",
    "\n",
    "df_sum = {}\n",
    "for year, df in df_clean.items():\n",
    "    # Somme des colonnes ayant le même nom\n",
    "    df_cols_summed = df.groupby(df.columns, axis=1).sum()\n",
    "    # Somme des lignes ayant le même nom (index)\n",
    "    df_rows_summed = df_cols_summed.groupby(df_cols_summed.index).sum()\n",
    "    df_sum[year] = df_rows_summed"
   ]
  },
  {
   "cell_type": "code",
   "execution_count": 4,
   "id": "d878e27f",
   "metadata": {},
   "outputs": [
    {
     "name": "stderr",
     "output_type": "stream",
     "text": [
      "C:\\Users\\gaetan.blecon_square\\AppData\\Local\\Temp\\ipykernel_4756\\2535090936.py:3: FutureWarning: DataFrame.fillna with 'method' is deprecated and will raise in a future version. Use obj.ffill() or obj.bfill() instead.\n",
      "  descp_nace.fillna(method='ffill', inplace=True)\n"
     ]
    }
   ],
   "source": [
    "descp_nace = pd.read_excel(\"../data/NACE 38 - 88 detaille vf.xlsx\")\n",
    "# On rempli les celluls qui n'ont pas été remplies à cause de la fusion des cellules\n",
    "descp_nace.fillna(method='ffill', inplace=True)"
   ]
  },
  {
   "cell_type": "code",
   "execution_count": 5,
   "id": "4e0a4c57",
   "metadata": {},
   "outputs": [
    {
     "name": "stderr",
     "output_type": "stream",
     "text": [
      "C:\\Users\\gaetan.blecon_square\\AppData\\Local\\Temp\\ipykernel_4756\\1936489676.py:16: FutureWarning: DataFrame.groupby with axis=1 is deprecated. Do `frame.T.groupby(...)` without axis instead.\n",
      "  df_nace17 = df_nace17.groupby(axis=1, level=0).sum()\n",
      "C:\\Users\\gaetan.blecon_square\\AppData\\Local\\Temp\\ipykernel_4756\\1936489676.py:16: FutureWarning: DataFrame.groupby with axis=1 is deprecated. Do `frame.T.groupby(...)` without axis instead.\n",
      "  df_nace17 = df_nace17.groupby(axis=1, level=0).sum()\n",
      "C:\\Users\\gaetan.blecon_square\\AppData\\Local\\Temp\\ipykernel_4756\\1936489676.py:16: FutureWarning: DataFrame.groupby with axis=1 is deprecated. Do `frame.T.groupby(...)` without axis instead.\n",
      "  df_nace17 = df_nace17.groupby(axis=1, level=0).sum()\n",
      "C:\\Users\\gaetan.blecon_square\\AppData\\Local\\Temp\\ipykernel_4756\\1936489676.py:16: FutureWarning: DataFrame.groupby with axis=1 is deprecated. Do `frame.T.groupby(...)` without axis instead.\n",
      "  df_nace17 = df_nace17.groupby(axis=1, level=0).sum()\n",
      "C:\\Users\\gaetan.blecon_square\\AppData\\Local\\Temp\\ipykernel_4756\\1936489676.py:16: FutureWarning: DataFrame.groupby with axis=1 is deprecated. Do `frame.T.groupby(...)` without axis instead.\n",
      "  df_nace17 = df_nace17.groupby(axis=1, level=0).sum()\n",
      "C:\\Users\\gaetan.blecon_square\\AppData\\Local\\Temp\\ipykernel_4756\\1936489676.py:16: FutureWarning: DataFrame.groupby with axis=1 is deprecated. Do `frame.T.groupby(...)` without axis instead.\n",
      "  df_nace17 = df_nace17.groupby(axis=1, level=0).sum()\n",
      "C:\\Users\\gaetan.blecon_square\\AppData\\Local\\Temp\\ipykernel_4756\\1936489676.py:16: FutureWarning: DataFrame.groupby with axis=1 is deprecated. Do `frame.T.groupby(...)` without axis instead.\n",
      "  df_nace17 = df_nace17.groupby(axis=1, level=0).sum()\n",
      "C:\\Users\\gaetan.blecon_square\\AppData\\Local\\Temp\\ipykernel_4756\\1936489676.py:16: FutureWarning: DataFrame.groupby with axis=1 is deprecated. Do `frame.T.groupby(...)` without axis instead.\n",
      "  df_nace17 = df_nace17.groupby(axis=1, level=0).sum()\n",
      "C:\\Users\\gaetan.blecon_square\\AppData\\Local\\Temp\\ipykernel_4756\\1936489676.py:16: FutureWarning: DataFrame.groupby with axis=1 is deprecated. Do `frame.T.groupby(...)` without axis instead.\n",
      "  df_nace17 = df_nace17.groupby(axis=1, level=0).sum()\n",
      "C:\\Users\\gaetan.blecon_square\\AppData\\Local\\Temp\\ipykernel_4756\\1936489676.py:16: FutureWarning: DataFrame.groupby with axis=1 is deprecated. Do `frame.T.groupby(...)` without axis instead.\n",
      "  df_nace17 = df_nace17.groupby(axis=1, level=0).sum()\n"
     ]
    }
   ],
   "source": [
    "# Agrégation des DataFrames de df_sum de NACE 88 vers NACE 17\n",
    "df_sum_nace17 = {}\n",
    "# Créer un mapping NACE 88 -> NACE 17 à partir de descp_nace\n",
    "nace88_to_17 = descp_nace.set_index('Nace 88')['NACE 17'].to_dict()\n",
    "\n",
    "for year, df in df_sum.items():\n",
    "    # Remplacer les noms de colonnes par leur NACE 17\n",
    "    new_cols = [nace88_to_17.get(col, col) for col in df.columns]\n",
    "    df_nace17 = df.copy()\n",
    "    df_nace17.columns = new_cols\n",
    "    # Remplacer les indices par leur NACE 17\n",
    "    new_idx = [nace88_to_17.get(idx, idx) for idx in df_nace17.index]\n",
    "    df_nace17.index = new_idx\n",
    "    # Grouper et sommer par NACE 17 (colonnes et lignes)\n",
    "    df_nace17 = df_nace17.groupby(df_nace17.index).sum()\n",
    "    df_nace17 = df_nace17.groupby(axis=1, level=0).sum()\n",
    "    df_sum_nace17[year] = df_nace17\n"
   ]
  },
  {
   "cell_type": "code",
   "execution_count": 6,
   "id": "7d4d9233",
   "metadata": {},
   "outputs": [
    {
     "data": {
      "image/png": "[encoded data removed]",
      "text/plain": [
       "<Figure size 800x400 with 1 Axes>"
      ]
     },
     "metadata": {},
     "output_type": "display_data"
    }
   ],
   "source": [
    "import matplotlib.pyplot as plt\n",
    "\n",
    "def plot_time_series(row, col, df_dict):\n",
    "    \"\"\"\n",
    "    Trace la série temporelle pour une combinaison (ligne, colonne) à partir de df_sum_nace17.\n",
    "    Args:\n",
    "        row (str): nom de la ligne (secteur NACE 17)\n",
    "        col (str): nom de la colonne (secteur NACE 17)\n",
    "        df_dict (dict): dictionnaire d'années -> DataFrame (ici df_sum_nace17)\n",
    "    \"\"\"\n",
    "    years = sorted(df_dict.keys())\n",
    "    values = []\n",
    "    for year in years:\n",
    "        df = df_dict[year]\n",
    "        try:\n",
    "            values.append(df.loc[row, col])\n",
    "        except KeyError:\n",
    "            values.append(float('nan'))\n",
    "    plt.figure(figsize=(8,4))\n",
    "    plt.plot(years, values, marker='o')\n",
    "    plt.title(f\"Série temporelle pour ({row}, {col})\")\n",
    "    plt.xlabel(\"Année\")\n",
    "    plt.ylabel(\"Valeur\")\n",
    "    plt.grid(True)\n",
    "    plt.show()\n",
    "\n",
    "# Exemple d'utilisation :\n",
    "plot_time_series('AZ', 'AZ', df_sum_nace17)"
   ]
  },
  {
   "cell_type": "markdown",
   "id": "fb30028a",
   "metadata": {},
   "source": [
    "Zt cyclique : C2, C3, C5, CH, FZ, GZ, HZ, IZ\n",
    "\n",
    "Zt Défensifs : AZ, C1, DZ, MN, OQ, RU\n",
    "\n",
    "Zt Taux d'Intérêt : JZ, KZ, LZ\n",
    "\n",
    "Zt Matières Premières : BZ, C2, CH, DZ\n",
    "\n",
    "Ce regroupement n'est plus réelment valable, ca n'a plus vraiment de sens de comprender les intéractions entre des regroupemnts de secteurs basés sur leur dépendance à des variables macro. On aimerait avoir des regroupements purement sectoriels en fonction du rapprochement des activités. \n",
    "\n",
    "Je vais essayer de repartir sur un bonne base et de revenir sur la création de la base en mode clean en recompilant les codes et en mettant les bonnes étiquettes au bon endroit. \n",
    "Surement créer un git avec un branchement plus intelligent.\n",
    "\n",
    "La branche main cntiendra les fichiers importants quil faudra transporter tout le long du projet, ensuite on feras des branchements spécifiques pour faire les différentes opérations nécessaires. \n",
    "\n",
    "La première banche sera l'enrichissement de la base : ajout de pays et secteur. On met \"à jour\" la base de données avec les nouveaux éléments.\n",
    "\n",
    "La seconde branche va être dédiée au calcul des facteurs systémiques. On pourra faire un premeir sous branchemnt destiné au regroupent sectoriel comme j'ai essayé de faire. Le second sous-branchement aura pour objectif de créer les Zt les plus grnaluaires possibles, on va tenter de définir le nombre de cotations nécessaires minimales par période pour garantir une significativité raisonnable.\n",
    "\n",
    "La 3ème branche sera destinée aux modèles satellites. On verra com^ment arboriser plus tard."
   ]
  },
  {
   "cell_type": "code",
   "execution_count": null,
   "id": "dabebb29",
   "metadata": {},
   "outputs": [],
   "source": []
  }
 ],
 "metadata": {
  "kernelspec": {
   "display_name": "tes_env",
   "language": "python",
   "name": "python3"
  },
  "language_info": {
   "codemirror_mode": {
    "name": "ipython",
    "version": 3
   },
   "file_extension": ".py",
   "mimetype": "text/x-python",
   "name": "python",
   "nbconvert_exporter": "python",
   "pygments_lexer": "ipython3",
   "version": "3.11.9"
  }
 },
 "nbformat": 4,
 "nbformat_minor": 5
}
